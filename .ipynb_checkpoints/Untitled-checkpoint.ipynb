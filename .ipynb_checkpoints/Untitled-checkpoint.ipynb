{
 "cells": [
  {
   "cell_type": "code",
   "execution_count": 7,
   "metadata": {},
   "outputs": [],
   "source": [
    "import os\n",
    "\n",
    "import jenkspy\n",
    "import numpy as np\n",
    "import pandas as pd\n",
    "import geopandas as gpd\n",
    "\n",
    "from shapely import wkt\n",
    "\n",
    "import folium\n",
    "import webbrowser\n",
    "from glob import glob\n",
    "\n",
    "from branca.element import MacroElement\n",
    "from branca import colormap\n",
    "\n",
    "from jinja2 import Template\n",
    "\n",
    "f_ = glob('*.geojson')\n",
    "gdf = []"
   ]
  },
  {
   "cell_type": "code",
   "execution_count": 8,
   "metadata": {},
   "outputs": [],
   "source": [
    "class BindColormap(MacroElement):\n",
    "    \"\"\"Binds a colormap to a given layer.\n",
    "\n",
    "    Parameters\n",
    "    ----------\n",
    "    colormap : branca.colormap.ColorMap\n",
    "        The colormap to bind.\n",
    "    \"\"\"\n",
    "    def __init__(self, layer, colormap):\n",
    "        super(BindColormap, self).__init__()\n",
    "        self.layer = layer\n",
    "        self.colormap = colormap\n",
    "        self._template = Template(u\"\"\"\n",
    "        {% macro script(this, kwargs) %}\n",
    "            {{this.colormap.get_name()}}.svg[0][0].style.display = 'block';\n",
    "            {{this._parent.get_name()}}.on('overlayadd', function (eventLayer) {\n",
    "                if (eventLayer.layer == {{this.layer.get_name()}}) {\n",
    "                    {{this.colormap.get_name()}}.svg[0][0].style.display = 'block';\n",
    "                }});\n",
    "            {{this._parent.get_name()}}.on('overlayremove', function (eventLayer) {\n",
    "                if (eventLayer.layer == {{this.layer.get_name()}}) {\n",
    "                    {{this.colormap.get_name()}}.svg[0][0].style.display = 'none';\n",
    "                }});\n",
    "        {% endmacro %}\n",
    "        \"\"\")\n",
    "\n",
    "legend = ['Total',\n",
    "          'Car truck or van',\n",
    "          'Car truck or van!!Drove alone',\n",
    "          'Car truck or van!!Carpooled',\n",
    "          'Car truck or van!!Carpooled!!2-person',\n",
    "          'Car truck or van!!Carpooled!!3-person',\n",
    "          'Car truck or van!!Carpooled!!4-or-more',\n",
    "          'Public Transportation',\n",
    "          'Public Transportation!!Bus or trolley bus',\n",
    "          'Public Transportation!!Streetscar or trolley car',\n",
    "          'Public Transportation!!Subway or elevated',\n",
    "          'Public Transportation!!Railroad',\n",
    "          'Public Transportation!!Ferryboat',\n",
    "          'Bicycle',\n",
    "          'Walked',\n",
    "          'Taxicab motorcycle or other means',\n",
    "          'Worked at home'\n",
    "          ]"
   ]
  },
  {
   "cell_type": "code",
   "execution_count": 25,
   "metadata": {},
   "outputs": [
    {
     "data": {
      "text/plain": [
       "['#FCEBE3', '#FBC4AE', '#F6947F', '#C85050', '#B24A4F']"
      ]
     },
     "execution_count": 25,
     "metadata": {},
     "output_type": "execute_result"
    }
   ],
   "source": [
    "color_code"
   ]
  },
  {
   "cell_type": "code",
   "execution_count": 50,
   "metadata": {},
   "outputs": [
    {
     "data": {
      "text/html": [
       "<div>\n",
       "<style scoped>\n",
       "    .dataframe tbody tr th:only-of-type {\n",
       "        vertical-align: middle;\n",
       "    }\n",
       "\n",
       "    .dataframe tbody tr th {\n",
       "        vertical-align: top;\n",
       "    }\n",
       "\n",
       "    .dataframe thead th {\n",
       "        text-align: right;\n",
       "    }\n",
       "</style>\n",
       "<table border=\"1\" class=\"dataframe\">\n",
       "  <thead>\n",
       "    <tr style=\"text-align: right;\">\n",
       "      <th></th>\n",
       "      <th>nb</th>\n",
       "    </tr>\n",
       "  </thead>\n",
       "  <tbody>\n",
       "    <tr>\n",
       "      <th>count</th>\n",
       "      <td>2165.000000</td>\n",
       "    </tr>\n",
       "    <tr>\n",
       "      <th>mean</th>\n",
       "      <td>27.356582</td>\n",
       "    </tr>\n",
       "    <tr>\n",
       "      <th>std</th>\n",
       "      <td>44.854348</td>\n",
       "    </tr>\n",
       "    <tr>\n",
       "      <th>min</th>\n",
       "      <td>0.000000</td>\n",
       "    </tr>\n",
       "    <tr>\n",
       "      <th>25%</th>\n",
       "      <td>0.000000</td>\n",
       "    </tr>\n",
       "    <tr>\n",
       "      <th>50%</th>\n",
       "      <td>11.000000</td>\n",
       "    </tr>\n",
       "    <tr>\n",
       "      <th>75%</th>\n",
       "      <td>33.000000</td>\n",
       "    </tr>\n",
       "    <tr>\n",
       "      <th>max</th>\n",
       "      <td>449.000000</td>\n",
       "    </tr>\n",
       "  </tbody>\n",
       "</table>\n",
       "</div>"
      ],
      "text/plain": [
       "                nb\n",
       "count  2165.000000\n",
       "mean     27.356582\n",
       "std      44.854348\n",
       "min       0.000000\n",
       "25%       0.000000\n",
       "50%      11.000000\n",
       "75%      33.000000\n",
       "max     449.000000"
      ]
     },
     "execution_count": 50,
     "metadata": {},
     "output_type": "execute_result"
    }
   ],
   "source": [
    "gdf[0].describe()"
   ]
  },
  {
   "cell_type": "code",
   "execution_count": 83,
   "metadata": {},
   "outputs": [
    {
     "data": {
      "text/plain": [
       "'#fcebe3'"
      ]
     },
     "execution_count": 83,
     "metadata": {},
     "output_type": "execute_result"
    }
   ],
   "source": [
    "cm(nbs[2])"
   ]
  },
  {
   "cell_type": "code",
   "execution_count": null,
   "metadata": {},
   "outputs": [],
   "source": [
    "for f in f_:\n",
    "    gdf.append(gpd.read_file(f))\n",
    "\n",
    "breaks = []\n",
    "for gdf_ in gdf:\n",
    "    breaks.append(jenkspy.jenks_breaks(gdf_['nb'], nb_class=5))\n",
    "\n",
    "m = folium.Map(location=[40.715005, -73.991396],\n",
    "               zoom_start=11, tiles='cartodbpositron')\n",
    "\n",
    "color_code = ['#FCEBE3', '#FBC4AE', '#F6947F', '#C85050', '#B24A4F']\n",
    "m.add_child(folium.map.LayerControl())\n",
    "for gdf_, i in zip(gdf, range(len(gdf))):\n",
    "    nbs = gdf_.set_index('cd')['nb']\n",
    "    cm = colormap.LinearColormap(color_code, index=breaks[i][2:6], vmin=breaks[i][0], vmax=breaks[i][5], caption='cm{}'.format(i))\n",
    "    cl = folium.GeoJson(\n",
    "        gdf_,\n",
    "        style_function=lambda feature: {\n",
    "            'fillColor': cm(nbs[i]),\n",
    "            'color': 'grey',\n",
    "            'weight': 0.5,\n",
    "            'fillOpacity': 0.9\n",
    "        }\n",
    "    )\n",
    "    m.add_child(cl)\n",
    "    m.add_child(BindColormap(cl,cl))\n",
    "    print('{} is done!'.format(i))\n",
    "\n",
    "\n",
    "#folium.LayerControl('topright', collapsed=True).add_to(m)\n",
    "m.save('test.html')\n",
    "new = 2  # open in a new tab, if possible\n",
    "url = \"file://\" + os.getcwd() + \"/test.html\"\n",
    "webbrowser.open(url, new=new)"
   ]
  }
 ],
 "metadata": {
  "kernelspec": {
   "display_name": "Python 3",
   "language": "python",
   "name": "python3"
  },
  "language_info": {
   "codemirror_mode": {
    "name": "ipython",
    "version": 3
   },
   "file_extension": ".py",
   "mimetype": "text/x-python",
   "name": "python",
   "nbconvert_exporter": "python",
   "pygments_lexer": "ipython3",
   "version": "3.7.3"
  }
 },
 "nbformat": 4,
 "nbformat_minor": 2
}
